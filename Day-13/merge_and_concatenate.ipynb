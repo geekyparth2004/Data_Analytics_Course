{
 "cells": [
  {
   "cell_type": "code",
   "execution_count": 1,
   "metadata": {},
   "outputs": [
    {
     "name": "stdout",
     "output_type": "stream",
     "text": [
      "   EID      Name  Roll No\n",
      "0  E01       Ram       23\n",
      "1  E02     Shyam       45\n",
      "2  E03  Khushboo       21\n",
      "3  E04     Naman       54\n",
      "\n",
      "   EID  Salary\n",
      "0  E01   23000\n",
      "1  E02   65000\n",
      "2  E03   45000\n",
      "3  E04   10000\n"
     ]
    }
   ],
   "source": [
    "import pandas as pd \n",
    "\n",
    "data1 = {\"EID\":[\"E01\",\"E02\",\"E03\",\"E04\"],\n",
    "         \"Name\":[\"Ram\",\"Shyam\",\"Khushboo\",\"Naman\"],\n",
    "         \"Roll No\":[23,45,21,54]}\n",
    "\n",
    "data2 = {\"EID\":[\"E01\",\"E02\",\"E03\",\"E04\"],\n",
    "         \"Salary\":[23000,65000,45000,10000]}\n",
    "\n",
    "df1 = pd.DataFrame(data1)\n",
    "df2 = pd.DataFrame(data2)\n",
    "\n",
    "print(df1)\n",
    "print()\n",
    "print(df2)\n"
   ]
  },
  {
   "cell_type": "code",
   "execution_count": 2,
   "metadata": {},
   "outputs": [
    {
     "name": "stdout",
     "output_type": "stream",
     "text": [
      "   EID      Name  Roll No  Salary\n",
      "0  E01       Ram       23   23000\n",
      "1  E02     Shyam       45   65000\n",
      "2  E03  Khushboo       21   45000\n",
      "3  E04     Naman       54   10000\n"
     ]
    }
   ],
   "source": [
    "print(pd.merge(df1,df2,on=\"EID\"))"
   ]
  },
  {
   "cell_type": "code",
   "execution_count": 3,
   "metadata": {},
   "outputs": [
    {
     "name": "stdout",
     "output_type": "stream",
     "text": [
      "   EID      Name  Roll No  Salary\n",
      "0  E01       Ram       23   23000\n",
      "1  E02     Shyam       45   65000\n",
      "2  E03  Khushboo       21   45000\n",
      "3  E04     Naman       54   10000\n"
     ]
    }
   ],
   "source": [
    "print(pd.merge(left = df1, right = df2,on = \"EID\",how=\"left\"))"
   ]
  }
 ],
 "metadata": {
  "kernelspec": {
   "display_name": "Python 3",
   "language": "python",
   "name": "python3"
  },
  "language_info": {
   "codemirror_mode": {
    "name": "ipython",
    "version": 3
   },
   "file_extension": ".py",
   "mimetype": "text/x-python",
   "name": "python",
   "nbconvert_exporter": "python",
   "pygments_lexer": "ipython3",
   "version": "3.13.1"
  }
 },
 "nbformat": 4,
 "nbformat_minor": 2
}
