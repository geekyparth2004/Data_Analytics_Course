{
 "cells": [
  {
   "cell_type": "code",
   "execution_count": 3,
   "metadata": {},
   "outputs": [
    {
     "name": "stdout",
     "output_type": "stream",
     "text": [
      "     Months\n",
      "0   January\n",
      "1  February\n",
      "2     March\n",
      "3     April\n",
      "     Months Short Months\n",
      "0   January          Jan\n",
      "1  February          Feb\n",
      "2     March          Mar\n",
      "3     April          Apr\n"
     ]
    }
   ],
   "source": [
    "import pandas as pd \n",
    "\n",
    "a = {\"Months\":[\"January\",\"February\",\"March\",\"April\"]}\n",
    "\n",
    "data = pd.DataFrame(a)\n",
    "\n",
    "\n",
    "print(data)\n",
    "\n",
    "def extract(value):\n",
    "    return value[0:3]\n",
    "\n",
    "data[\"Short Months\"] = data[\"Months\"].map(extract)\n",
    "\n",
    "print(data)"
   ]
  }
 ],
 "metadata": {
  "kernelspec": {
   "display_name": "Python 3",
   "language": "python",
   "name": "python3"
  },
  "language_info": {
   "codemirror_mode": {
    "name": "ipython",
    "version": 3
   },
   "file_extension": ".py",
   "mimetype": "text/x-python",
   "name": "python",
   "nbconvert_exporter": "python",
   "pygments_lexer": "ipython3",
   "version": "3.13.1"
  }
 },
 "nbformat": 4,
 "nbformat_minor": 2
}
