{
 "cells": [
  {
   "cell_type": "code",
   "execution_count": 1,
   "metadata": {},
   "outputs": [
    {
     "name": "stdout",
     "output_type": "stream",
     "text": [
      "     Submission Id   Team Id            Team Name             Player's Name  \\\n",
      "0         95327227  U23ZL88B   Skyuii Developer's           Priyanshu Gupta   \n",
      "1         95330696  U71D8U3S              Natures               Vijay Yadav   \n",
      "2         95304733  UJ1A94R0    siva.jy.auto.2021          SIVA PRASATH J Y   \n",
      "3         95414495  U2RZ05A2     pawarvaishnav267            Vaishnav Pawar   \n",
      "4         95472112  U37WI2J7        ajithpriya733                   Ajith S   \n",
      "..             ...       ...                  ...                       ...   \n",
      "128       95295761  UE5738CD          Synergy Six          Harsh Khandelwal   \n",
      "129       95301158  U5O46S8P      singhshikharani          ShikhaRani Singh   \n",
      "130       95299033  U337V3AI         Quadraple_04  AVANTHI SANJANA KUMARI S   \n",
      "131       95303025  UXZ277W5           Code Spark           Tanmay Warkhede   \n",
      "132       95302928  U81C6Q3R  srivastavapranay623         Pranay Srivastava   \n",
      "\n",
      "                     Player's Email  Player's Mobile   Domain Course Pursuing  \\\n",
      "0      priyanshuunplugged@gmail.com     917061393434  student     engineering   \n",
      "1       vicky.panchal2003@gmail.com     917302530313  student     engineering   \n",
      "2       siva.jy.auto.2021@snsct.org     916384290721  student     engineering   \n",
      "3        pawarvaishnav267@gmail.com     918767168411  student     engineering   \n",
      "4           ajithpriya733@gmail.com     918825656373  student     engineering   \n",
      "..                              ...              ...      ...             ...   \n",
      "128  khandelwalharshu1234@gmail.com     919413304213  student     engineering   \n",
      "129       singhshikharani@gmail.com     917205212644  student     engineering   \n",
      "130    avanthi.s.cse.2022@snsct.org     918300140986  student     engineering   \n",
      "131       tanmaywarkhede2@gmail.com     917666389761  student     engineering   \n",
      "132   srivastavapranay623@gmail.com     917307220060  student     engineering   \n",
      "\n",
      "    Course Stream  Study Year  \\\n",
      "0        B . Tech           2   \n",
      "1        B . Tech           3   \n",
      "2        B . Tech           4   \n",
      "3        B . Tech           3   \n",
      "4        B . Tech           4   \n",
      "..            ...         ...   \n",
      "128      B . Tech           3   \n",
      "129            25           1   \n",
      "130      B . Tech           3   \n",
      "131      B . Tech           2   \n",
      "132      B . Tech           2   \n",
      "\n",
      "                                 Player's Organisation      Submission Time  \\\n",
      "0     I.T.S Engineering College (ITSEC), Greater Noida  2024-11-27 11:14:42   \n",
      "1         KIET Group of Institutions (KIET), Ghaziabad  2024-11-20 12:43:20   \n",
      "2                            Sns college of technology  2024-11-11 10:55:16   \n",
      "3    Pune Vidyarthi Griha's College of Engineering ...  2024-11-12 16:22:19   \n",
      "4              SNS College of Engineering (Autonomous)  2024-11-12 21:50:22   \n",
      "..                                                 ...                  ...   \n",
      "128                    Poornima College Of Engineering  2024-11-10 23:39:29   \n",
      "129            Sikkim Manipal University (SMU), Sikkim  2024-11-11 09:10:46   \n",
      "130  SNS College of Technology (SNSCT), Coimbatore,...  2024-11-20 04:43:51   \n",
      "131  BRACT's Vishwakarma Institute of Information T...  2024-11-11 10:23:06   \n",
      "132  Ajay Kumar Garg Engineering College (AKGEC), G...  2024-11-26 20:55:38   \n",
      "\n",
      "                              Q1. TeamName_CollegeName  \\\n",
      "0    https://d8it4huxumps7.cloudfront.net/uploads/s...   \n",
      "1    https://d8it4huxumps7.cloudfront.net/uploads/s...   \n",
      "2    https://d8it4huxumps7.cloudfront.net/uploads/s...   \n",
      "3    https://d8it4huxumps7.cloudfront.net/uploads/s...   \n",
      "4    https://d8it4huxumps7.cloudfront.net/uploads/s...   \n",
      "..                                                 ...   \n",
      "128  https://d8it4huxumps7.cloudfront.net/uploads/s...   \n",
      "129  https://d8it4huxumps7.cloudfront.net/uploads/s...   \n",
      "130  https://d8it4huxumps7.cloudfront.net/uploads/s...   \n",
      "131  https://d8it4huxumps7.cloudfront.net/uploads/s...   \n",
      "132  https://d8it4huxumps7.cloudfront.net/uploads/s...   \n",
      "\n",
      "                                         Q1. File Name  \n",
      "0        6746b1888da71_smart_agriculture_assistant.pdf  \n",
      "1    673d8c0f215bb_eco_friendly_packaging_solutions...  \n",
      "2                        6731953b9a294_download_3.jpeg  \n",
      "3                            67333362737fe_parking.pdf  \n",
      "4    6733803787365_eee_warriros_sns_college_of_engi...  \n",
      "..                                                 ...  \n",
      "128  6730f6d8d0a8d_synergy_six_poornima_college_of_...  \n",
      "129                    67317cbd73d3e_project_idea.docx  \n",
      "130              673d1c486ec0c_quadraple_04_snsct.pptx  \n",
      "131  67318da85ac63_code_spark_vishwakarma_institute...  \n",
      "132      6745e716be8b7_aqua_mitra_akgec_ghaziabad.pptx  \n",
      "\n",
      "[133 rows x 14 columns]\n"
     ]
    }
   ],
   "source": [
    "import pandas as pd\n",
    "\n",
    "data = pd.read_csv(\"/Users/parthgoel/Desktop/Data_Analytics_Course/Assets/final submission.csv\")\n",
    "\n",
    "print(data)"
   ]
  },
  {
   "cell_type": "markdown",
   "metadata": {},
   "source": [
    "Find the duplicated values"
   ]
  },
  {
   "cell_type": "code",
   "execution_count": 6,
   "metadata": {},
   "outputs": [
    {
     "name": "stdout",
     "output_type": "stream",
     "text": [
      "0\n"
     ]
    }
   ],
   "source": [
    "print(data[\"Team Name\"].duplicated().sum())"
   ]
  },
  {
   "cell_type": "markdown",
   "metadata": {},
   "source": [
    "Remove duplicate rows\n"
   ]
  },
  {
   "cell_type": "code",
   "execution_count": 7,
   "metadata": {},
   "outputs": [
    {
     "name": "stdout",
     "output_type": "stream",
     "text": [
      "     Submission Id   Team Id            Team Name             Player's Name  \\\n",
      "0         95327227  U23ZL88B   Skyuii Developer's           Priyanshu Gupta   \n",
      "1         95330696  U71D8U3S              Natures               Vijay Yadav   \n",
      "2         95304733  UJ1A94R0    siva.jy.auto.2021          SIVA PRASATH J Y   \n",
      "3         95414495  U2RZ05A2     pawarvaishnav267            Vaishnav Pawar   \n",
      "4         95472112  U37WI2J7        ajithpriya733                   Ajith S   \n",
      "..             ...       ...                  ...                       ...   \n",
      "128       95295761  UE5738CD          Synergy Six          Harsh Khandelwal   \n",
      "129       95301158  U5O46S8P      singhshikharani          ShikhaRani Singh   \n",
      "130       95299033  U337V3AI         Quadraple_04  AVANTHI SANJANA KUMARI S   \n",
      "131       95303025  UXZ277W5           Code Spark           Tanmay Warkhede   \n",
      "132       95302928  U81C6Q3R  srivastavapranay623         Pranay Srivastava   \n",
      "\n",
      "                     Player's Email  Player's Mobile   Domain Course Pursuing  \\\n",
      "0      priyanshuunplugged@gmail.com     917061393434  student     engineering   \n",
      "1       vicky.panchal2003@gmail.com     917302530313  student     engineering   \n",
      "2       siva.jy.auto.2021@snsct.org     916384290721  student     engineering   \n",
      "3        pawarvaishnav267@gmail.com     918767168411  student     engineering   \n",
      "4           ajithpriya733@gmail.com     918825656373  student     engineering   \n",
      "..                              ...              ...      ...             ...   \n",
      "128  khandelwalharshu1234@gmail.com     919413304213  student     engineering   \n",
      "129       singhshikharani@gmail.com     917205212644  student     engineering   \n",
      "130    avanthi.s.cse.2022@snsct.org     918300140986  student     engineering   \n",
      "131       tanmaywarkhede2@gmail.com     917666389761  student     engineering   \n",
      "132   srivastavapranay623@gmail.com     917307220060  student     engineering   \n",
      "\n",
      "    Course Stream  Study Year  \\\n",
      "0        B . Tech           2   \n",
      "1        B . Tech           3   \n",
      "2        B . Tech           4   \n",
      "3        B . Tech           3   \n",
      "4        B . Tech           4   \n",
      "..            ...         ...   \n",
      "128      B . Tech           3   \n",
      "129            25           1   \n",
      "130      B . Tech           3   \n",
      "131      B . Tech           2   \n",
      "132      B . Tech           2   \n",
      "\n",
      "                                 Player's Organisation      Submission Time  \\\n",
      "0     I.T.S Engineering College (ITSEC), Greater Noida  2024-11-27 11:14:42   \n",
      "1         KIET Group of Institutions (KIET), Ghaziabad  2024-11-20 12:43:20   \n",
      "2                            Sns college of technology  2024-11-11 10:55:16   \n",
      "3    Pune Vidyarthi Griha's College of Engineering ...  2024-11-12 16:22:19   \n",
      "4              SNS College of Engineering (Autonomous)  2024-11-12 21:50:22   \n",
      "..                                                 ...                  ...   \n",
      "128                    Poornima College Of Engineering  2024-11-10 23:39:29   \n",
      "129            Sikkim Manipal University (SMU), Sikkim  2024-11-11 09:10:46   \n",
      "130  SNS College of Technology (SNSCT), Coimbatore,...  2024-11-20 04:43:51   \n",
      "131  BRACT's Vishwakarma Institute of Information T...  2024-11-11 10:23:06   \n",
      "132  Ajay Kumar Garg Engineering College (AKGEC), G...  2024-11-26 20:55:38   \n",
      "\n",
      "                              Q1. TeamName_CollegeName  \\\n",
      "0    https://d8it4huxumps7.cloudfront.net/uploads/s...   \n",
      "1    https://d8it4huxumps7.cloudfront.net/uploads/s...   \n",
      "2    https://d8it4huxumps7.cloudfront.net/uploads/s...   \n",
      "3    https://d8it4huxumps7.cloudfront.net/uploads/s...   \n",
      "4    https://d8it4huxumps7.cloudfront.net/uploads/s...   \n",
      "..                                                 ...   \n",
      "128  https://d8it4huxumps7.cloudfront.net/uploads/s...   \n",
      "129  https://d8it4huxumps7.cloudfront.net/uploads/s...   \n",
      "130  https://d8it4huxumps7.cloudfront.net/uploads/s...   \n",
      "131  https://d8it4huxumps7.cloudfront.net/uploads/s...   \n",
      "132  https://d8it4huxumps7.cloudfront.net/uploads/s...   \n",
      "\n",
      "                                         Q1. File Name  \n",
      "0        6746b1888da71_smart_agriculture_assistant.pdf  \n",
      "1    673d8c0f215bb_eco_friendly_packaging_solutions...  \n",
      "2                        6731953b9a294_download_3.jpeg  \n",
      "3                            67333362737fe_parking.pdf  \n",
      "4    6733803787365_eee_warriros_sns_college_of_engi...  \n",
      "..                                                 ...  \n",
      "128  6730f6d8d0a8d_synergy_six_poornima_college_of_...  \n",
      "129                    67317cbd73d3e_project_idea.docx  \n",
      "130              673d1c486ec0c_quadraple_04_snsct.pptx  \n",
      "131  67318da85ac63_code_spark_vishwakarma_institute...  \n",
      "132      6745e716be8b7_aqua_mitra_akgec_ghaziabad.pptx  \n",
      "\n",
      "[133 rows x 14 columns]\n"
     ]
    }
   ],
   "source": [
    "print(data.drop_duplicates(\"Team Id\"))"
   ]
  }
 ],
 "metadata": {
  "kernelspec": {
   "display_name": "Python 3",
   "language": "python",
   "name": "python3"
  },
  "language_info": {
   "codemirror_mode": {
    "name": "ipython",
    "version": 3
   },
   "file_extension": ".py",
   "mimetype": "text/x-python",
   "name": "python",
   "nbconvert_exporter": "python",
   "pygments_lexer": "ipython3",
   "version": "3.13.1"
  }
 },
 "nbformat": 4,
 "nbformat_minor": 2
}
