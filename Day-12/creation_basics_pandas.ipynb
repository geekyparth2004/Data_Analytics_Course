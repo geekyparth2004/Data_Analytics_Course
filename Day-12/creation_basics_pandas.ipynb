{
 "cells": [
  {
   "cell_type": "code",
   "execution_count": 2,
   "metadata": {},
   "outputs": [
    {
     "name": "stdout",
     "output_type": "stream",
     "text": [
      "       Name  Age  Salary\n",
      "0     Parth   20   50000\n",
      "1  Khushboo   21   80000\n",
      "2     Naman   18   30000\n"
     ]
    }
   ],
   "source": [
    "import pandas as pd \n",
    "\n",
    "data = {\"Name\":[\"Parth\",\"Khushboo\",\"Naman\"],\n",
    "        \"Age\":[20,21,18],\n",
    "        \"Salary\":[50000,80000,30000]}\n",
    "\n",
    "df = pd.DataFrame(data)\n",
    "print(df)"
   ]
  },
  {
   "cell_type": "code",
   "execution_count": 6,
   "metadata": {},
   "outputs": [
    {
     "name": "stdout",
     "output_type": "stream",
     "text": [
      "     Submission Id   Team Id            Team Name             Player's Name  \\\n",
      "0         95327227  U23ZL88B   Skyuii Developer's           Priyanshu Gupta   \n",
      "1         95330696  U71D8U3S              Natures               Vijay Yadav   \n",
      "2         95304733  UJ1A94R0    siva.jy.auto.2021          SIVA PRASATH J Y   \n",
      "3         95414495  U2RZ05A2     pawarvaishnav267            Vaishnav Pawar   \n",
      "4         95472112  U37WI2J7        ajithpriya733                   Ajith S   \n",
      "..             ...       ...                  ...                       ...   \n",
      "128       95295761  UE5738CD          Synergy Six          Harsh Khandelwal   \n",
      "129       95301158  U5O46S8P      singhshikharani          ShikhaRani Singh   \n",
      "130       95299033  U337V3AI         Quadraple_04  AVANTHI SANJANA KUMARI S   \n",
      "131       95303025  UXZ277W5           Code Spark           Tanmay Warkhede   \n",
      "132       95302928  U81C6Q3R  srivastavapranay623         Pranay Srivastava   \n",
      "\n",
      "                     Player's Email  Player's Mobile   Domain Course Pursuing  \\\n",
      "0      priyanshuunplugged@gmail.com     917061393434  student     engineering   \n",
      "1       vicky.panchal2003@gmail.com     917302530313  student     engineering   \n",
      "2       siva.jy.auto.2021@snsct.org     916384290721  student     engineering   \n",
      "3        pawarvaishnav267@gmail.com     918767168411  student     engineering   \n",
      "4           ajithpriya733@gmail.com     918825656373  student     engineering   \n",
      "..                              ...              ...      ...             ...   \n",
      "128  khandelwalharshu1234@gmail.com     919413304213  student     engineering   \n",
      "129       singhshikharani@gmail.com     917205212644  student     engineering   \n",
      "130    avanthi.s.cse.2022@snsct.org     918300140986  student     engineering   \n",
      "131       tanmaywarkhede2@gmail.com     917666389761  student     engineering   \n",
      "132   srivastavapranay623@gmail.com     917307220060  student     engineering   \n",
      "\n",
      "    Course Stream  Study Year  \\\n",
      "0        B . Tech           2   \n",
      "1        B . Tech           3   \n",
      "2        B . Tech           4   \n",
      "3        B . Tech           3   \n",
      "4        B . Tech           4   \n",
      "..            ...         ...   \n",
      "128      B . Tech           3   \n",
      "129            25           1   \n",
      "130      B . Tech           3   \n",
      "131      B . Tech           2   \n",
      "132      B . Tech           2   \n",
      "\n",
      "                                 Player's Organisation      Submission Time  \\\n",
      "0     I.T.S Engineering College (ITSEC), Greater Noida  2024-11-27 11:14:42   \n",
      "1         KIET Group of Institutions (KIET), Ghaziabad  2024-11-20 12:43:20   \n",
      "2                            Sns college of technology  2024-11-11 10:55:16   \n",
      "3    Pune Vidyarthi Griha's College of Engineering ...  2024-11-12 16:22:19   \n",
      "4              SNS College of Engineering (Autonomous)  2024-11-12 21:50:22   \n",
      "..                                                 ...                  ...   \n",
      "128                    Poornima College Of Engineering  2024-11-10 23:39:29   \n",
      "129            Sikkim Manipal University (SMU), Sikkim  2024-11-11 09:10:46   \n",
      "130  SNS College of Technology (SNSCT), Coimbatore,...  2024-11-20 04:43:51   \n",
      "131  BRACT's Vishwakarma Institute of Information T...  2024-11-11 10:23:06   \n",
      "132  Ajay Kumar Garg Engineering College (AKGEC), G...  2024-11-26 20:55:38   \n",
      "\n",
      "                              Q1. TeamName_CollegeName  \\\n",
      "0    https://d8it4huxumps7.cloudfront.net/uploads/s...   \n",
      "1    https://d8it4huxumps7.cloudfront.net/uploads/s...   \n",
      "2    https://d8it4huxumps7.cloudfront.net/uploads/s...   \n",
      "3    https://d8it4huxumps7.cloudfront.net/uploads/s...   \n",
      "4    https://d8it4huxumps7.cloudfront.net/uploads/s...   \n",
      "..                                                 ...   \n",
      "128  https://d8it4huxumps7.cloudfront.net/uploads/s...   \n",
      "129  https://d8it4huxumps7.cloudfront.net/uploads/s...   \n",
      "130  https://d8it4huxumps7.cloudfront.net/uploads/s...   \n",
      "131  https://d8it4huxumps7.cloudfront.net/uploads/s...   \n",
      "132  https://d8it4huxumps7.cloudfront.net/uploads/s...   \n",
      "\n",
      "                                         Q1. File Name  \n",
      "0        6746b1888da71_smart_agriculture_assistant.pdf  \n",
      "1    673d8c0f215bb_eco_friendly_packaging_solutions...  \n",
      "2                        6731953b9a294_download_3.jpeg  \n",
      "3                            67333362737fe_parking.pdf  \n",
      "4    6733803787365_eee_warriros_sns_college_of_engi...  \n",
      "..                                                 ...  \n",
      "128  6730f6d8d0a8d_synergy_six_poornima_college_of_...  \n",
      "129                    67317cbd73d3e_project_idea.docx  \n",
      "130              673d1c486ec0c_quadraple_04_snsct.pptx  \n",
      "131  67318da85ac63_code_spark_vishwakarma_institute...  \n",
      "132      6745e716be8b7_aqua_mitra_akgec_ghaziabad.pptx  \n",
      "\n",
      "[133 rows x 14 columns]\n"
     ]
    }
   ],
   "source": [
    "data = pd.read_csv(\"/Users/parthgoel/Desktop/Data_Analytics_Course/Assets/final submission.csv\")\n",
    "\n",
    "print(data)"
   ]
  },
  {
   "cell_type": "markdown",
   "metadata": {},
   "source": [
    "If we want to print the first 15 values in the table\n"
   ]
  },
  {
   "cell_type": "code",
   "execution_count": 8,
   "metadata": {},
   "outputs": [
    {
     "name": "stdout",
     "output_type": "stream",
     "text": [
      "   Submission Id   Team Id                 Team Name     Player's Name  \\\n",
      "0       95327227  U23ZL88B        Skyuii Developer's   Priyanshu Gupta   \n",
      "1       95330696  U71D8U3S                   Natures       Vijay Yadav   \n",
      "2       95304733  UJ1A94R0         siva.jy.auto.2021  SIVA PRASATH J Y   \n",
      "3       95414495  U2RZ05A2          pawarvaishnav267    Vaishnav Pawar   \n",
      "4       95472112  U37WI2J7             ajithpriya733           Ajith S   \n",
      "5       95481544  UEZ23B79             s.olinsherwin      Olin Sherwin   \n",
      "6       95494538  U17IF80B        dharani.s.eee.2022         Dharani S   \n",
      "7       95557001  UK877R8Y               TECH TITANS      Sachin yadav   \n",
      "8       95349083  UN13YU27  mohanaprasath.s.iot.2023  Mohana Prasath S   \n",
      "9       95542795  UDM7470V              hari07012006         Shri Hari   \n",
      "\n",
      "                         Player's Email  Player's Mobile   Domain  \\\n",
      "0          priyanshuunplugged@gmail.com     917061393434  student   \n",
      "1           vicky.panchal2003@gmail.com     917302530313  student   \n",
      "2           siva.jy.auto.2021@snsct.org     916384290721  student   \n",
      "3            pawarvaishnav267@gmail.com     918767168411  student   \n",
      "4               ajithpriya733@gmail.com     918825656373  student   \n",
      "5               s.olinsherwin@gmail.com     918300744061  student   \n",
      "6        dharani.s.eee.2022@snsce.ac.in     919976059353  student   \n",
      "7                   ubosachin@gmail.com     918368474782  student   \n",
      "8  mohanaprasath.s.iot.2023@snsce.ac.in     917395874278  student   \n",
      "9                hari07012006@gmail.com     919043064443  student   \n",
      "\n",
      "  Course Pursuing Course Stream  Study Year  \\\n",
      "0     engineering      B . Tech           2   \n",
      "1     engineering      B . Tech           3   \n",
      "2     engineering      B . Tech           4   \n",
      "3     engineering      B . Tech           3   \n",
      "4     engineering      B . Tech           4   \n",
      "5     engineering      B . Tech           2   \n",
      "6     engineering      B . Tech           3   \n",
      "7     engineering            24           1   \n",
      "8     engineering      B . Tech           2   \n",
      "9     engineering      B . Tech           2   \n",
      "\n",
      "                               Player's Organisation      Submission Time  \\\n",
      "0   I.T.S Engineering College (ITSEC), Greater Noida  2024-11-27 11:14:42   \n",
      "1       KIET Group of Institutions (KIET), Ghaziabad  2024-11-20 12:43:20   \n",
      "2                          Sns college of technology  2024-11-11 10:55:16   \n",
      "3  Pune Vidyarthi Griha's College of Engineering ...  2024-11-12 16:22:19   \n",
      "4            SNS College of Engineering (Autonomous)  2024-11-12 21:50:22   \n",
      "5     SNS College of Engineering (SNSCE), Coimbatore  2024-11-26 20:56:23   \n",
      "6            SNS College of Engineering (Autonomous)  2024-11-13 10:06:36   \n",
      "7                                Galgotia university  2024-11-27 19:43:31   \n",
      "8                         SNS college of engineering  2024-11-14 17:48:22   \n",
      "9            SNS College of Engineering (Autonomous)  2024-11-14 20:13:33   \n",
      "\n",
      "                            Q1. TeamName_CollegeName  \\\n",
      "0  https://d8it4huxumps7.cloudfront.net/uploads/s...   \n",
      "1  https://d8it4huxumps7.cloudfront.net/uploads/s...   \n",
      "2  https://d8it4huxumps7.cloudfront.net/uploads/s...   \n",
      "3  https://d8it4huxumps7.cloudfront.net/uploads/s...   \n",
      "4  https://d8it4huxumps7.cloudfront.net/uploads/s...   \n",
      "5  https://d8it4huxumps7.cloudfront.net/uploads/s...   \n",
      "6  https://d8it4huxumps7.cloudfront.net/uploads/s...   \n",
      "7  https://d8it4huxumps7.cloudfront.net/uploads/s...   \n",
      "8  https://d8it4huxumps7.cloudfront.net/uploads/s...   \n",
      "9  https://d8it4huxumps7.cloudfront.net/uploads/s...   \n",
      "\n",
      "                                       Q1. File Name  \n",
      "0      6746b1888da71_smart_agriculture_assistant.pdf  \n",
      "1  673d8c0f215bb_eco_friendly_packaging_solutions...  \n",
      "2                      6731953b9a294_download_3.jpeg  \n",
      "3                          67333362737fe_parking.pdf  \n",
      "4  6733803787365_eee_warriros_sns_college_of_engi...  \n",
      "5                     6745e89ea7919_presentation.key  \n",
      "6  67342cd2c150b_types_of_dc_and_ac_distribution_...  \n",
      "7                     6747290a56204_tech_titans.pptx  \n",
      "8  6735ea2ccc4c4_team_sns_sns_college_of_engineer...  \n",
      "9                   673c6f0a37a41_hackathon_nov.docx  \n"
     ]
    }
   ],
   "source": [
    "print(data.head(10))"
   ]
  },
  {
   "cell_type": "markdown",
   "metadata": {},
   "source": [
    "Now we are going to find data information"
   ]
  },
  {
   "cell_type": "code",
   "execution_count": 9,
   "metadata": {},
   "outputs": [
    {
     "name": "stdout",
     "output_type": "stream",
     "text": [
      "<class 'pandas.core.frame.DataFrame'>\n",
      "RangeIndex: 133 entries, 0 to 132\n",
      "Data columns (total 14 columns):\n",
      " #   Column                    Non-Null Count  Dtype \n",
      "---  ------                    --------------  ----- \n",
      " 0   Submission Id             133 non-null    int64 \n",
      " 1   Team Id                   133 non-null    object\n",
      " 2   Team Name                 133 non-null    object\n",
      " 3   Player's Name             133 non-null    object\n",
      " 4   Player's Email            133 non-null    object\n",
      " 5   Player's Mobile           133 non-null    int64 \n",
      " 6   Domain                    133 non-null    object\n",
      " 7   Course Pursuing           133 non-null    object\n",
      " 8   Course Stream             133 non-null    object\n",
      " 9   Study Year                133 non-null    int64 \n",
      " 10  Player's Organisation     133 non-null    object\n",
      " 11  Submission Time           133 non-null    object\n",
      " 12  Q1. TeamName_CollegeName  133 non-null    object\n",
      " 13  Q1. File Name             133 non-null    object\n",
      "dtypes: int64(3), object(11)\n",
      "memory usage: 14.7+ KB\n",
      "None\n"
     ]
    }
   ],
   "source": [
    "print(data.info())"
   ]
  },
  {
   "cell_type": "code",
   "execution_count": 10,
   "metadata": {},
   "outputs": [
    {
     "name": "stdout",
     "output_type": "stream",
     "text": [
      "       Submission Id  Player's Mobile  Study Year\n",
      "count   1.330000e+02     1.330000e+02  133.000000\n",
      "mean    9.579783e+07     9.182798e+11    2.466165\n",
      "std     2.884753e+05     1.034798e+09    0.857665\n",
      "min     9.529478e+07     9.163031e+11    1.000000\n",
      "25%     9.556678e+07     9.175008e+11    2.000000\n",
      "50%     9.582596e+07     9.183001e+11    2.000000\n",
      "75%     9.603258e+07     9.191704e+11    3.000000\n",
      "max     9.625372e+07     9.199940e+11    4.000000\n"
     ]
    }
   ],
   "source": [
    "print(data.describe())"
   ]
  },
  {
   "cell_type": "markdown",
   "metadata": {},
   "source": [
    "Checking null values"
   ]
  },
  {
   "cell_type": "code",
   "execution_count": 12,
   "metadata": {},
   "outputs": [
    {
     "name": "stdout",
     "output_type": "stream",
     "text": [
      "Submission Id               0\n",
      "Team Id                     0\n",
      "Team Name                   0\n",
      "Player's Name               0\n",
      "Player's Email              0\n",
      "Player's Mobile             0\n",
      "Domain                      0\n",
      "Course Pursuing             0\n",
      "Course Stream               0\n",
      "Study Year                  0\n",
      "Player's Organisation       0\n",
      "Submission Time             0\n",
      "Q1. TeamName_CollegeName    0\n",
      "Q1. File Name               0\n",
      "dtype: int64\n"
     ]
    }
   ],
   "source": [
    "print(data.isnull().sum())"
   ]
  }
 ],
 "metadata": {
  "kernelspec": {
   "display_name": "Python 3",
   "language": "python",
   "name": "python3"
  },
  "language_info": {
   "codemirror_mode": {
    "name": "ipython",
    "version": 3
   },
   "file_extension": ".py",
   "mimetype": "text/x-python",
   "name": "python",
   "nbconvert_exporter": "python",
   "pygments_lexer": "ipython3",
   "version": "3.13.1"
  }
 },
 "nbformat": 4,
 "nbformat_minor": 2
}
