{
 "cells": [
  {
   "cell_type": "code",
   "execution_count": 1,
   "metadata": {},
   "outputs": [
    {
     "name": "stdout",
     "output_type": "stream",
     "text": [
      "    Fruits  Price  Quantity\n",
      "0  Mangoes    100        50\n",
      "1   Banana     50        10\n",
      "2    Apple    150         1\n",
      "3   Grapes     30        50\n"
     ]
    }
   ],
   "source": [
    "import pandas as pd\n",
    "\n",
    "dict = {\"Fruits\":[\"Mangoes\",\"Banana\",\"Apple\",\"Grapes\"],\n",
    "        \"Price\":[100,50,150,30],\n",
    "        \"Quantity\":[50,10,1,50]}\n",
    "\n",
    "df = pd.DataFrame(dict)\n",
    "\n",
    "print(df)"
   ]
  },
  {
   "cell_type": "code",
   "execution_count": 6,
   "metadata": {},
   "outputs": [
    {
     "name": "stdout",
     "output_type": "stream",
     "text": [
      "Price     30    50    100  150\n",
      "Fruits                        \n",
      "Apple     NaN   NaN   NaN  1.0\n",
      "Banana    NaN  10.0   NaN  NaN\n",
      "Grapes   50.0   NaN   NaN  NaN\n",
      "Mangoes   NaN   NaN  50.0  NaN\n"
     ]
    }
   ],
   "source": [
    "print(df.pivot(index=\"Fruits\", columns=\"Price\", values=\"Quantity\"))\n"
   ]
  }
 ],
 "metadata": {
  "kernelspec": {
   "display_name": "Python 3",
   "language": "python",
   "name": "python3"
  },
  "language_info": {
   "codemirror_mode": {
    "name": "ipython",
    "version": 3
   },
   "file_extension": ".py",
   "mimetype": "text/x-python",
   "name": "python",
   "nbconvert_exporter": "python",
   "pygments_lexer": "ipython3",
   "version": "3.13.1"
  }
 },
 "nbformat": 4,
 "nbformat_minor": 2
}
